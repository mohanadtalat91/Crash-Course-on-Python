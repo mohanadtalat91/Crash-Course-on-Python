{
 "cells": [
  {
   "cell_type": "markdown",
   "id": "b651407d",
   "metadata": {},
   "source": [
    "# Code Reuse"
   ]
  },
  {
   "cell_type": "markdown",
   "id": "fbf5fdd7",
   "metadata": {},
   "source": [
    "Let’s put what we learned about code reuse all together. \n",
    "<br><br>\n",
    "First, let’s look back at **inheritance**. Run the following cell that defines a generic `Animal` class. "
   ]
  },
  {
   "cell_type": "code",
   "execution_count": 1,
   "id": "f02b546d",
   "metadata": {},
   "outputs": [],
   "source": [
    "class Animal:\n",
    "    name = \"\"\n",
    "    category = \"\"\n",
    "    \n",
    "    def __init__(self, name):\n",
    "        self.name = name\n",
    "    \n",
    "    def set_category(self, category):\n",
    "        self.category = category"
   ]
  },
  {
   "cell_type": "markdown",
   "id": "b63de7ae",
   "metadata": {},
   "source": [
    "What we have is not enough to do much -- yet. That’s where you come in. \n",
    "<br><br>\n",
    "In the next cell, define a `Turtle` class that inherits from the `Animal` class. Then go ahead and set its category. For instance, a turtle is generally considered a reptile. Although modern cladistics call this categorization into question, for purposes of this exercise we will say turtles are reptiles! "
   ]
  },
  {
   "cell_type": "code",
   "execution_count": 2,
   "id": "6deaa9af",
   "metadata": {},
   "outputs": [],
   "source": [
    "class Turtle(Animal):\n",
    "    def __init__(self,name):\n",
    "        Animal.__init__(self,name) \n",
    "        Animal.set_category(self,\"reptile\")\n",
    "x = Turtle(\"turtle\")"
   ]
  },
  {
   "cell_type": "markdown",
   "id": "3216badd",
   "metadata": {},
   "source": [
    "Run the following cell to check whether you correctly defined your `Turtle` class and set its category to reptile."
   ]
  },
  {
   "cell_type": "code",
   "execution_count": 3,
   "id": "150549a0",
   "metadata": {},
   "outputs": [
    {
     "name": "stdout",
     "output_type": "stream",
     "text": [
      "reptile\n"
     ]
    }
   ],
   "source": [
    "print(x.category)"
   ]
  },
  {
   "cell_type": "markdown",
   "id": "d481a4ef",
   "metadata": {},
   "source": [
    "Was the output of the above cell reptile? If not, go back and edit your `Turtle` class making sure that it inherits from the `Animal` class and its category is properly set to reptile. Be sure to re-run that cell once you've finished your edits. Did you get it? If so, great!"
   ]
  },
  {
   "cell_type": "markdown",
   "id": "c9c78495",
   "metadata": {},
   "source": [
    "Next, let’s practice **composition** a little bit. This one will require a second type of `Animal` that is in the same category as the first. For example, since you already created a `Turtle` class, go ahead and create a `Snake` class. Don’t forget that it also inherits from the `Animal` class and that its category should be set to reptile."
   ]
  },
  {
   "cell_type": "code",
   "execution_count": 4,
   "id": "4c5abe43",
   "metadata": {},
   "outputs": [],
   "source": [
    "class Snake(Animal):\n",
    "    def __init__(self,name):\n",
    "        Animal.__init__(self,name)\n",
    "        Animal.set_category(self,\"reptile\") "
   ]
  },
  {
   "cell_type": "markdown",
   "id": "75b3d537",
   "metadata": {},
   "source": [
    "Now, let’s say we have a large variety of `Animal`s (such as turtles and snakes) in a Zoo. Below we have the `Zoo` class. We’re going to use it to organize our various `Animal`s. Remember, inheritance says a Turtle is an `Animal`, but a `Zoo` is not an `Animal` and an `Animal` is not a `Zoo` -- though they are related to one another. "
   ]
  },
  {
   "cell_type": "markdown",
   "id": "d3aad067",
   "metadata": {},
   "source": [
    "Fill in the blanks of the `Zoo` class below so that you can use **zoo.add_animal( )** to add instances of the `Animal` subclasses you created above. Once you’ve added them all, you should be able to use **zoo.total_of_category( )** to tell you exactly how many individual `Animal` types the `Zoo` has for each category! Be sure to run the cell once you've finished your edits."
   ]
  },
  {
   "cell_type": "code",
   "execution_count": 7,
   "id": "1561e1ac",
   "metadata": {},
   "outputs": [],
   "source": [
    "class Zoo:\n",
    "    def __init__(self):\n",
    "        self.current_animals = {}\n",
    "    \n",
    "    def add_animal(self, animal):\n",
    "        self.current_animals[animal.name] = animal.category\n",
    "    \n",
    "    def total_of_category(self, category):\n",
    "        result = 0\n",
    "        for animal in self.current_animals.values():\n",
    "            if animal == category:\n",
    "                result += 1\n",
    "        return result\n",
    "\n",
    "zoo = Zoo()"
   ]
  },
  {
   "cell_type": "markdown",
   "id": "487d3dce",
   "metadata": {},
   "source": [
    "Run the following cell to check whether you properly filled in the blanks of your `Zoo` class."
   ]
  },
  {
   "cell_type": "code",
   "execution_count": 8,
   "id": "010a893d",
   "metadata": {},
   "outputs": [
    {
     "name": "stdout",
     "output_type": "stream",
     "text": [
      "2\n"
     ]
    }
   ],
   "source": [
    "turtle = Turtle(\"Turtle\") #create an instance of the Turtle class\n",
    "snake = Snake(\"Snake\") #create an instance of the Snake class\n",
    "\n",
    "zoo.add_animal(turtle)\n",
    "zoo.add_animal(snake)\n",
    "\n",
    "print(zoo.total_of_category(\"reptile\")) #how many zoo animal types in the reptile category"
   ]
  },
  {
   "cell_type": "markdown",
   "id": "4fe472b0",
   "metadata": {},
   "source": [
    "Was the output of the above cell 2? If not, go back and edit the `Zoo` class making sure to fill in the blanks with the appropriate attributes. Be sure to re-run that cell once you've finished your edits.  \n",
    "<br>\n",
    "Did you get it? If so, perfect! You have successfully defined your `Turtle` and `Snake` subclasses as well as your `Zoo` class.  You are all done with this notebook. Great work!"
   ]
  }
 ],
 "metadata": {
  "kernelspec": {
   "display_name": "Python 3 (ipykernel)",
   "language": "python",
   "name": "python3"
  },
  "language_info": {
   "codemirror_mode": {
    "name": "ipython",
    "version": 3
   },
   "file_extension": ".py",
   "mimetype": "text/x-python",
   "name": "python",
   "nbconvert_exporter": "python",
   "pygments_lexer": "ipython3",
   "version": "3.9.7"
  }
 },
 "nbformat": 4,
 "nbformat_minor": 5
}
